{
  "nbformat": 4,
  "nbformat_minor": 0,
  "metadata": {
    "colab": {
      "provenance": []
    },
    "kernelspec": {
      "name": "python3",
      "display_name": "Python 3"
    },
    "language_info": {
      "name": "python"
    }
  },
  "cells": [
    {
      "cell_type": "code",
      "source": [
        "!pip install spacy_llm"
      ],
      "metadata": {
        "colab": {
          "base_uri": "https://localhost:8080/"
        },
        "id": "YlPcrD_By2az",
        "outputId": "524c91dd-897c-4f0c-d40d-8be1aac0749e"
      },
      "execution_count": 3,
      "outputs": [
        {
          "output_type": "stream",
          "name": "stdout",
          "text": [
            "Collecting spacy_llm\n",
            "  Downloading spacy_llm-0.7.3-py2.py3-none-any.whl.metadata (9.9 kB)\n",
            "Requirement already satisfied: spacy<4.0,>=3.5 in /usr/local/lib/python3.12/dist-packages (from spacy_llm) (3.8.7)\n",
            "Requirement already satisfied: jinja2 in /usr/local/lib/python3.12/dist-packages (from spacy_llm) (3.1.6)\n",
            "Requirement already satisfied: confection<1.0.0,>=0.1.3 in /usr/local/lib/python3.12/dist-packages (from spacy_llm) (0.1.5)\n",
            "Requirement already satisfied: pydantic!=1.8,!=1.8.1,<3.0.0,>=1.7.4 in /usr/local/lib/python3.12/dist-packages (from confection<1.0.0,>=0.1.3->spacy_llm) (2.11.10)\n",
            "Requirement already satisfied: srsly<3.0.0,>=2.4.0 in /usr/local/lib/python3.12/dist-packages (from confection<1.0.0,>=0.1.3->spacy_llm) (2.5.1)\n",
            "Requirement already satisfied: spacy-legacy<3.1.0,>=3.0.11 in /usr/local/lib/python3.12/dist-packages (from spacy<4.0,>=3.5->spacy_llm) (3.0.12)\n",
            "Requirement already satisfied: spacy-loggers<2.0.0,>=1.0.0 in /usr/local/lib/python3.12/dist-packages (from spacy<4.0,>=3.5->spacy_llm) (1.0.5)\n",
            "Requirement already satisfied: murmurhash<1.1.0,>=0.28.0 in /usr/local/lib/python3.12/dist-packages (from spacy<4.0,>=3.5->spacy_llm) (1.0.13)\n",
            "Requirement already satisfied: cymem<2.1.0,>=2.0.2 in /usr/local/lib/python3.12/dist-packages (from spacy<4.0,>=3.5->spacy_llm) (2.0.11)\n",
            "Requirement already satisfied: preshed<3.1.0,>=3.0.2 in /usr/local/lib/python3.12/dist-packages (from spacy<4.0,>=3.5->spacy_llm) (3.0.10)\n",
            "Requirement already satisfied: thinc<8.4.0,>=8.3.4 in /usr/local/lib/python3.12/dist-packages (from spacy<4.0,>=3.5->spacy_llm) (8.3.6)\n",
            "Requirement already satisfied: wasabi<1.2.0,>=0.9.1 in /usr/local/lib/python3.12/dist-packages (from spacy<4.0,>=3.5->spacy_llm) (1.1.3)\n",
            "Requirement already satisfied: catalogue<2.1.0,>=2.0.6 in /usr/local/lib/python3.12/dist-packages (from spacy<4.0,>=3.5->spacy_llm) (2.0.10)\n",
            "Requirement already satisfied: weasel<0.5.0,>=0.1.0 in /usr/local/lib/python3.12/dist-packages (from spacy<4.0,>=3.5->spacy_llm) (0.4.1)\n",
            "Requirement already satisfied: typer<1.0.0,>=0.3.0 in /usr/local/lib/python3.12/dist-packages (from spacy<4.0,>=3.5->spacy_llm) (0.19.2)\n",
            "Requirement already satisfied: tqdm<5.0.0,>=4.38.0 in /usr/local/lib/python3.12/dist-packages (from spacy<4.0,>=3.5->spacy_llm) (4.67.1)\n",
            "Requirement already satisfied: numpy>=1.19.0 in /usr/local/lib/python3.12/dist-packages (from spacy<4.0,>=3.5->spacy_llm) (2.0.2)\n",
            "Requirement already satisfied: requests<3.0.0,>=2.13.0 in /usr/local/lib/python3.12/dist-packages (from spacy<4.0,>=3.5->spacy_llm) (2.32.4)\n",
            "Requirement already satisfied: setuptools in /usr/local/lib/python3.12/dist-packages (from spacy<4.0,>=3.5->spacy_llm) (75.2.0)\n",
            "Requirement already satisfied: packaging>=20.0 in /usr/local/lib/python3.12/dist-packages (from spacy<4.0,>=3.5->spacy_llm) (25.0)\n",
            "Requirement already satisfied: langcodes<4.0.0,>=3.2.0 in /usr/local/lib/python3.12/dist-packages (from spacy<4.0,>=3.5->spacy_llm) (3.5.0)\n",
            "Requirement already satisfied: MarkupSafe>=2.0 in /usr/local/lib/python3.12/dist-packages (from jinja2->spacy_llm) (3.0.3)\n",
            "Requirement already satisfied: language-data>=1.2 in /usr/local/lib/python3.12/dist-packages (from langcodes<4.0.0,>=3.2.0->spacy<4.0,>=3.5->spacy_llm) (1.3.0)\n",
            "Requirement already satisfied: annotated-types>=0.6.0 in /usr/local/lib/python3.12/dist-packages (from pydantic!=1.8,!=1.8.1,<3.0.0,>=1.7.4->confection<1.0.0,>=0.1.3->spacy_llm) (0.7.0)\n",
            "Requirement already satisfied: pydantic-core==2.33.2 in /usr/local/lib/python3.12/dist-packages (from pydantic!=1.8,!=1.8.1,<3.0.0,>=1.7.4->confection<1.0.0,>=0.1.3->spacy_llm) (2.33.2)\n",
            "Requirement already satisfied: typing-extensions>=4.12.2 in /usr/local/lib/python3.12/dist-packages (from pydantic!=1.8,!=1.8.1,<3.0.0,>=1.7.4->confection<1.0.0,>=0.1.3->spacy_llm) (4.15.0)\n",
            "Requirement already satisfied: typing-inspection>=0.4.0 in /usr/local/lib/python3.12/dist-packages (from pydantic!=1.8,!=1.8.1,<3.0.0,>=1.7.4->confection<1.0.0,>=0.1.3->spacy_llm) (0.4.2)\n",
            "Requirement already satisfied: charset_normalizer<4,>=2 in /usr/local/lib/python3.12/dist-packages (from requests<3.0.0,>=2.13.0->spacy<4.0,>=3.5->spacy_llm) (3.4.3)\n",
            "Requirement already satisfied: idna<4,>=2.5 in /usr/local/lib/python3.12/dist-packages (from requests<3.0.0,>=2.13.0->spacy<4.0,>=3.5->spacy_llm) (3.10)\n",
            "Requirement already satisfied: urllib3<3,>=1.21.1 in /usr/local/lib/python3.12/dist-packages (from requests<3.0.0,>=2.13.0->spacy<4.0,>=3.5->spacy_llm) (2.5.0)\n",
            "Requirement already satisfied: certifi>=2017.4.17 in /usr/local/lib/python3.12/dist-packages (from requests<3.0.0,>=2.13.0->spacy<4.0,>=3.5->spacy_llm) (2025.10.5)\n",
            "Requirement already satisfied: blis<1.4.0,>=1.3.0 in /usr/local/lib/python3.12/dist-packages (from thinc<8.4.0,>=8.3.4->spacy<4.0,>=3.5->spacy_llm) (1.3.0)\n",
            "Requirement already satisfied: click>=8.0.0 in /usr/local/lib/python3.12/dist-packages (from typer<1.0.0,>=0.3.0->spacy<4.0,>=3.5->spacy_llm) (8.3.0)\n",
            "Requirement already satisfied: shellingham>=1.3.0 in /usr/local/lib/python3.12/dist-packages (from typer<1.0.0,>=0.3.0->spacy<4.0,>=3.5->spacy_llm) (1.5.4)\n",
            "Requirement already satisfied: rich>=10.11.0 in /usr/local/lib/python3.12/dist-packages (from typer<1.0.0,>=0.3.0->spacy<4.0,>=3.5->spacy_llm) (13.9.4)\n",
            "Requirement already satisfied: cloudpathlib<1.0.0,>=0.7.0 in /usr/local/lib/python3.12/dist-packages (from weasel<0.5.0,>=0.1.0->spacy<4.0,>=3.5->spacy_llm) (0.23.0)\n",
            "Requirement already satisfied: smart-open<8.0.0,>=5.2.1 in /usr/local/lib/python3.12/dist-packages (from weasel<0.5.0,>=0.1.0->spacy<4.0,>=3.5->spacy_llm) (7.3.1)\n",
            "Requirement already satisfied: marisa-trie>=1.1.0 in /usr/local/lib/python3.12/dist-packages (from language-data>=1.2->langcodes<4.0.0,>=3.2.0->spacy<4.0,>=3.5->spacy_llm) (1.3.1)\n",
            "Requirement already satisfied: markdown-it-py>=2.2.0 in /usr/local/lib/python3.12/dist-packages (from rich>=10.11.0->typer<1.0.0,>=0.3.0->spacy<4.0,>=3.5->spacy_llm) (4.0.0)\n",
            "Requirement already satisfied: pygments<3.0.0,>=2.13.0 in /usr/local/lib/python3.12/dist-packages (from rich>=10.11.0->typer<1.0.0,>=0.3.0->spacy<4.0,>=3.5->spacy_llm) (2.19.2)\n",
            "Requirement already satisfied: wrapt in /usr/local/lib/python3.12/dist-packages (from smart-open<8.0.0,>=5.2.1->weasel<0.5.0,>=0.1.0->spacy<4.0,>=3.5->spacy_llm) (1.17.3)\n",
            "Requirement already satisfied: mdurl~=0.1 in /usr/local/lib/python3.12/dist-packages (from markdown-it-py>=2.2.0->rich>=10.11.0->typer<1.0.0,>=0.3.0->spacy<4.0,>=3.5->spacy_llm) (0.1.2)\n",
            "Downloading spacy_llm-0.7.3-py2.py3-none-any.whl (255 kB)\n",
            "\u001b[2K   \u001b[90m━━━━━━━━━━━━━━━━━━━━━━━━━━━━━━━━━━━━━━━━\u001b[0m \u001b[32m255.9/255.9 kB\u001b[0m \u001b[31m13.1 MB/s\u001b[0m eta \u001b[36m0:00:00\u001b[0m\n",
            "\u001b[?25hInstalling collected packages: spacy_llm\n",
            "Successfully installed spacy_llm-0.7.3\n"
          ]
        }
      ]
    },
    {
      "cell_type": "code",
      "execution_count": 4,
      "metadata": {
        "id": "IBgk7fOFwVE_"
      },
      "outputs": [],
      "source": [
        "import spacy\n",
        "import spacy_llm\n",
        "from spacy_llm.registry import registry\n",
        "from spacy.tokens import Doc\n",
        "from typing import Iterable\n",
        "from transformers import pipeline\n",
        "import torch"
      ]
    },
    {
      "cell_type": "code",
      "source": [
        "# Register the custom Mistral model with spaCy's registry\n",
        "# This allows spaCy to find and use our custom model by name\n",
        "\n",
        "@registry.llm_models(\"custom.LocalMistral.v1\")\n",
        "def local_mistral_model(model_path):\n",
        "    \"\"\"\n",
        "    Factory function to create a LocalMistralModel instance.\n",
        "\n",
        "    Args: model_path: Path to the Mistral model on disk\n",
        "\n",
        "    Returns: LocalMistralModel instance\n",
        "    \"\"\"\n",
        "    return LocalMistralModel(model_path)\n"
      ],
      "metadata": {
        "id": "rfAXRKJOyvno"
      },
      "execution_count": 5,
      "outputs": []
    },
    {
      "cell_type": "code",
      "source": [
        "class LocalMistralModel:\n",
        "    \"\"\"\n",
        "    Wrapper for local Mistral model that works with spaCy LLMs.\n",
        "    Loads the model once and processes prompts to generate responses.\n",
        "    \"\"\"\n",
        "\n",
        "    def __init__(self, model_path):\n",
        "        \"\"\"Load Mistral model from local path using Hugging Face pipeline.\"\"\"\n",
        "        print(f\"Loading Mistral from {model_path}...\")\n",
        "        self.pipe = pipeline(\n",
        "            \"text-generation\",\n",
        "            model=model_path,\n",
        "            torch_dtype=torch.float16,\n",
        "            device_map=\"auto\"\n",
        "        )\n",
        "\n",
        "    def __call__(self, prompts: Iterable[str]):\n",
        "        \"\"\"\n",
        "        Generate responses for given prompts.\n",
        "        Returns only the generated text without the original prompt.\n",
        "        \"\"\"\n",
        "        responses = []\n",
        "        for prompt in prompts:\n",
        "            if isinstance(prompt, list):  # Handle nested prompts from spacy-llm\n",
        "                prompt = prompt[0]\n",
        "            output = self.pipe(prompt, max_new_tokens=256, do_sample=False)\n",
        "            generated = output[0][\"generated_text\"]\n",
        "            response = generated[len(prompt):].strip()  # Remove prompt from output\n",
        "            responses.append(response)\n",
        "        return responses"
      ],
      "metadata": {
        "id": "SOG9h3MEy1VJ"
      },
      "execution_count": null,
      "outputs": []
    },
    {
      "cell_type": "code",
      "source": [
        "# Register triplet task\n",
        "@registry.llm_tasks(\"custom.TripletExtraction.v1\")\n",
        "def make_triplet_task():\n",
        "    return TripletExtractionTask()\n",
        "\n",
        "class TripletExtractionTask:\n",
        "    def __init__(self):\n",
        "        if not Doc.has_extension(\"triplets\"):\n",
        "            Doc.set_extension(\"triplets\", default=[])\n",
        "\n",
        "    def generate_prompts(self, docs: Iterable[Doc]) -> Iterable[str]:\n",
        "        prompts = []\n",
        "        for doc in docs:\n",
        "            prompt = f\"\"\"Extract role-practice-counterrole triplets from this text.\n",
        "\n",
        "IMPORTANT RULES:\n",
        "- Role: Name of organization or actor (e.g., \"EIT Digital\", \"Microsoft\")\n",
        "- Practice: SINGLE ACTION VERB ONLY (e.g., \"helps\", \"funds\", \"collaborates\", \"supports\")\n",
        "- Counterrole: Name of partner or recipient (e.g., \"MatchX\", \"startups\")\n",
        "\n",
        "Format each triplet EXACTLY like this:\n",
        "Role: [organization name]\n",
        "Practice: [single verb]\n",
        "Counterrole: [partner name]\n",
        "\n",
        "Text: {doc.text}\n",
        "\n",
        "Triplets:\"\"\"\n",
        "            prompts.append(prompt)\n",
        "        return prompts\n",
        "\n",
        "    def parse_responses(self, docs: Iterable[Doc], responses: Iterable[str]):\n",
        "        docs_list = list(docs)\n",
        "        responses_list = list(responses)\n",
        "\n",
        "        for doc, response in zip(docs_list, responses_list):\n",
        "            triplets = []\n",
        "            current = {}\n",
        "            for line in response.strip().split('\\n'):\n",
        "                if line.startswith('Role:'):\n",
        "                    current = {'role': line.replace('Role:', '').strip()}\n",
        "                elif line.startswith('Practice:'):\n",
        "                    current['practice'] = line.replace('Practice:', '').strip()\n",
        "                elif line.startswith('Counterrole:'):\n",
        "                    current['counterrole'] = line.replace('Counterrole:', '').strip()\n",
        "                    triplets.append(current)\n",
        "                    current = {}\n",
        "            doc._.triplets = triplets\n",
        "\n",
        "        return iter(docs_list)"
      ],
      "metadata": {
        "id": "_L4naHzi0S1Q"
      },
      "execution_count": null,
      "outputs": []
    },
    {
      "cell_type": "code",
      "source": [
        "nlp = spacy.blank(\"en\")"
      ],
      "metadata": {
        "id": "sQp_XdCu0_Jj"
      },
      "execution_count": null,
      "outputs": []
    },
    {
      "cell_type": "code",
      "source": [
        "config = {\n",
        "    \"task\": {\"@llm_tasks\": \"custom.TripletExtraction.v1\"},\n",
        "    \"model\": {\n",
        "        \"@llm_models\": \"custom.LocalMistral.v1\",\n",
        "        \"model_path\": \"/project/sgona/hf_cache/hub/models--mistralai--Mistral-7B-Instruct-v0.3/snapshots/0d4b76e1efeb5eb6f6b5e757c79870472e04bd3a\"\n",
        "    },\n",
        "    \"validate_types\": False\n",
        "}\n",
        "\n",
        "nlp.add_pipe(\"llm\", config=config)\n",
        "\n",
        "#with open(\"/project/sgona/data/combined_output_cleaned.txt\", \"r\") as file:\n",
        "    #text = file.read()\n",
        ""
      ],
      "metadata": {
        "id": "VuesKAOf0cJC"
      },
      "execution_count": null,
      "outputs": []
    },
    {
      "cell_type": "code",
      "source": [
        "text = \"\""
      ],
      "metadata": {
        "id": "RTyrWt3i0u_R"
      },
      "execution_count": null,
      "outputs": []
    },
    {
      "cell_type": "code",
      "source": [
        "doc = nlp(text)\n",
        "\n",
        "print(\"Extracted Triplets:\")\n",
        "for t in doc._.triplets:\n",
        "    print(f\"Role: {t['role']}\\nPractice: {t['practice']}\\nCounterrole: {t['counterrole']}\\n\")"
      ],
      "metadata": {
        "id": "1aftPsJU01Vm"
      },
      "execution_count": null,
      "outputs": []
    }
  ]
}
