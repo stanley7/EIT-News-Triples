{
  "nbformat": 4,
  "nbformat_minor": 0,
  "metadata": {
    "colab": {
      "provenance": []
    },
    "kernelspec": {
      "name": "python3",
      "display_name": "Python 3"
    },
    "language_info": {
      "name": "python"
    }
  },
  "cells": [
    {
      "cell_type": "code",
      "execution_count": 58,
      "metadata": {
        "id": "GZUPrHRJEL5O"
      },
      "outputs": [],
      "source": [
        "import os\n",
        "import google.generativeai as genai\n",
        "import spacy\n",
        "import spacy_llm\n",
        "from spacy_llm.registry import registry\n",
        "from spacy.tokens import Doc\n",
        "from typing import Iterable\n",
        "from transformers import pipeline\n",
        "import torch"
      ]
    },
    {
      "cell_type": "code",
      "source": [
        "!pip install spacy_llm"
      ],
      "metadata": {
        "id": "CANdDc0ZVPTp",
        "outputId": "6ca38bf5-3394-4e82-efcd-333fe0a77d5e",
        "colab": {
          "base_uri": "https://localhost:8080/"
        }
      },
      "execution_count": 59,
      "outputs": [
        {
          "output_type": "stream",
          "name": "stdout",
          "text": [
            "Requirement already satisfied: spacy_llm in /usr/local/lib/python3.12/dist-packages (0.7.3)\n",
            "Requirement already satisfied: spacy<4.0,>=3.5 in /usr/local/lib/python3.12/dist-packages (from spacy_llm) (3.8.7)\n",
            "Requirement already satisfied: jinja2 in /usr/local/lib/python3.12/dist-packages (from spacy_llm) (3.1.6)\n",
            "Requirement already satisfied: confection<1.0.0,>=0.1.3 in /usr/local/lib/python3.12/dist-packages (from spacy_llm) (0.1.5)\n",
            "Requirement already satisfied: pydantic!=1.8,!=1.8.1,<3.0.0,>=1.7.4 in /usr/local/lib/python3.12/dist-packages (from confection<1.0.0,>=0.1.3->spacy_llm) (2.11.10)\n",
            "Requirement already satisfied: srsly<3.0.0,>=2.4.0 in /usr/local/lib/python3.12/dist-packages (from confection<1.0.0,>=0.1.3->spacy_llm) (2.5.1)\n",
            "Requirement already satisfied: spacy-legacy<3.1.0,>=3.0.11 in /usr/local/lib/python3.12/dist-packages (from spacy<4.0,>=3.5->spacy_llm) (3.0.12)\n",
            "Requirement already satisfied: spacy-loggers<2.0.0,>=1.0.0 in /usr/local/lib/python3.12/dist-packages (from spacy<4.0,>=3.5->spacy_llm) (1.0.5)\n",
            "Requirement already satisfied: murmurhash<1.1.0,>=0.28.0 in /usr/local/lib/python3.12/dist-packages (from spacy<4.0,>=3.5->spacy_llm) (1.0.13)\n",
            "Requirement already satisfied: cymem<2.1.0,>=2.0.2 in /usr/local/lib/python3.12/dist-packages (from spacy<4.0,>=3.5->spacy_llm) (2.0.11)\n",
            "Requirement already satisfied: preshed<3.1.0,>=3.0.2 in /usr/local/lib/python3.12/dist-packages (from spacy<4.0,>=3.5->spacy_llm) (3.0.10)\n",
            "Requirement already satisfied: thinc<8.4.0,>=8.3.4 in /usr/local/lib/python3.12/dist-packages (from spacy<4.0,>=3.5->spacy_llm) (8.3.6)\n",
            "Requirement already satisfied: wasabi<1.2.0,>=0.9.1 in /usr/local/lib/python3.12/dist-packages (from spacy<4.0,>=3.5->spacy_llm) (1.1.3)\n",
            "Requirement already satisfied: catalogue<2.1.0,>=2.0.6 in /usr/local/lib/python3.12/dist-packages (from spacy<4.0,>=3.5->spacy_llm) (2.0.10)\n",
            "Requirement already satisfied: weasel<0.5.0,>=0.1.0 in /usr/local/lib/python3.12/dist-packages (from spacy<4.0,>=3.5->spacy_llm) (0.4.1)\n",
            "Requirement already satisfied: typer<1.0.0,>=0.3.0 in /usr/local/lib/python3.12/dist-packages (from spacy<4.0,>=3.5->spacy_llm) (0.19.2)\n",
            "Requirement already satisfied: tqdm<5.0.0,>=4.38.0 in /usr/local/lib/python3.12/dist-packages (from spacy<4.0,>=3.5->spacy_llm) (4.67.1)\n",
            "Requirement already satisfied: numpy>=1.19.0 in /usr/local/lib/python3.12/dist-packages (from spacy<4.0,>=3.5->spacy_llm) (2.0.2)\n",
            "Requirement already satisfied: requests<3.0.0,>=2.13.0 in /usr/local/lib/python3.12/dist-packages (from spacy<4.0,>=3.5->spacy_llm) (2.32.4)\n",
            "Requirement already satisfied: setuptools in /usr/local/lib/python3.12/dist-packages (from spacy<4.0,>=3.5->spacy_llm) (75.2.0)\n",
            "Requirement already satisfied: packaging>=20.0 in /usr/local/lib/python3.12/dist-packages (from spacy<4.0,>=3.5->spacy_llm) (25.0)\n",
            "Requirement already satisfied: langcodes<4.0.0,>=3.2.0 in /usr/local/lib/python3.12/dist-packages (from spacy<4.0,>=3.5->spacy_llm) (3.5.0)\n",
            "Requirement already satisfied: MarkupSafe>=2.0 in /usr/local/lib/python3.12/dist-packages (from jinja2->spacy_llm) (3.0.3)\n",
            "Requirement already satisfied: language-data>=1.2 in /usr/local/lib/python3.12/dist-packages (from langcodes<4.0.0,>=3.2.0->spacy<4.0,>=3.5->spacy_llm) (1.3.0)\n",
            "Requirement already satisfied: annotated-types>=0.6.0 in /usr/local/lib/python3.12/dist-packages (from pydantic!=1.8,!=1.8.1,<3.0.0,>=1.7.4->confection<1.0.0,>=0.1.3->spacy_llm) (0.7.0)\n",
            "Requirement already satisfied: pydantic-core==2.33.2 in /usr/local/lib/python3.12/dist-packages (from pydantic!=1.8,!=1.8.1,<3.0.0,>=1.7.4->confection<1.0.0,>=0.1.3->spacy_llm) (2.33.2)\n",
            "Requirement already satisfied: typing-extensions>=4.12.2 in /usr/local/lib/python3.12/dist-packages (from pydantic!=1.8,!=1.8.1,<3.0.0,>=1.7.4->confection<1.0.0,>=0.1.3->spacy_llm) (4.15.0)\n",
            "Requirement already satisfied: typing-inspection>=0.4.0 in /usr/local/lib/python3.12/dist-packages (from pydantic!=1.8,!=1.8.1,<3.0.0,>=1.7.4->confection<1.0.0,>=0.1.3->spacy_llm) (0.4.2)\n",
            "Requirement already satisfied: charset_normalizer<4,>=2 in /usr/local/lib/python3.12/dist-packages (from requests<3.0.0,>=2.13.0->spacy<4.0,>=3.5->spacy_llm) (3.4.4)\n",
            "Requirement already satisfied: idna<4,>=2.5 in /usr/local/lib/python3.12/dist-packages (from requests<3.0.0,>=2.13.0->spacy<4.0,>=3.5->spacy_llm) (3.11)\n",
            "Requirement already satisfied: urllib3<3,>=1.21.1 in /usr/local/lib/python3.12/dist-packages (from requests<3.0.0,>=2.13.0->spacy<4.0,>=3.5->spacy_llm) (2.5.0)\n",
            "Requirement already satisfied: certifi>=2017.4.17 in /usr/local/lib/python3.12/dist-packages (from requests<3.0.0,>=2.13.0->spacy<4.0,>=3.5->spacy_llm) (2025.10.5)\n",
            "Requirement already satisfied: blis<1.4.0,>=1.3.0 in /usr/local/lib/python3.12/dist-packages (from thinc<8.4.0,>=8.3.4->spacy<4.0,>=3.5->spacy_llm) (1.3.0)\n",
            "Requirement already satisfied: click>=8.0.0 in /usr/local/lib/python3.12/dist-packages (from typer<1.0.0,>=0.3.0->spacy<4.0,>=3.5->spacy_llm) (8.3.0)\n",
            "Requirement already satisfied: shellingham>=1.3.0 in /usr/local/lib/python3.12/dist-packages (from typer<1.0.0,>=0.3.0->spacy<4.0,>=3.5->spacy_llm) (1.5.4)\n",
            "Requirement already satisfied: rich>=10.11.0 in /usr/local/lib/python3.12/dist-packages (from typer<1.0.0,>=0.3.0->spacy<4.0,>=3.5->spacy_llm) (13.9.4)\n",
            "Requirement already satisfied: cloudpathlib<1.0.0,>=0.7.0 in /usr/local/lib/python3.12/dist-packages (from weasel<0.5.0,>=0.1.0->spacy<4.0,>=3.5->spacy_llm) (0.23.0)\n",
            "Requirement already satisfied: smart-open<8.0.0,>=5.2.1 in /usr/local/lib/python3.12/dist-packages (from weasel<0.5.0,>=0.1.0->spacy<4.0,>=3.5->spacy_llm) (7.3.1)\n",
            "Requirement already satisfied: marisa-trie>=1.1.0 in /usr/local/lib/python3.12/dist-packages (from language-data>=1.2->langcodes<4.0.0,>=3.2.0->spacy<4.0,>=3.5->spacy_llm) (1.3.1)\n",
            "Requirement already satisfied: markdown-it-py>=2.2.0 in /usr/local/lib/python3.12/dist-packages (from rich>=10.11.0->typer<1.0.0,>=0.3.0->spacy<4.0,>=3.5->spacy_llm) (4.0.0)\n",
            "Requirement already satisfied: pygments<3.0.0,>=2.13.0 in /usr/local/lib/python3.12/dist-packages (from rich>=10.11.0->typer<1.0.0,>=0.3.0->spacy<4.0,>=3.5->spacy_llm) (2.19.2)\n",
            "Requirement already satisfied: wrapt in /usr/local/lib/python3.12/dist-packages (from smart-open<8.0.0,>=5.2.1->weasel<0.5.0,>=0.1.0->spacy<4.0,>=3.5->spacy_llm) (1.17.3)\n",
            "Requirement already satisfied: mdurl~=0.1 in /usr/local/lib/python3.12/dist-packages (from markdown-it-py>=2.2.0->rich>=10.11.0->typer<1.0.0,>=0.3.0->spacy<4.0,>=3.5->spacy_llm) (0.1.2)\n"
          ]
        }
      ]
    },
    {
      "cell_type": "code",
      "source": [
        "!pip install google-generativeai"
      ],
      "metadata": {
        "colab": {
          "base_uri": "https://localhost:8080/"
        },
        "id": "PIxmq7AqFEWN",
        "outputId": "e8e850ee-d2ef-4c40-946c-016bceace7f3"
      },
      "execution_count": 60,
      "outputs": [
        {
          "output_type": "stream",
          "name": "stdout",
          "text": [
            "Requirement already satisfied: google-generativeai in /usr/local/lib/python3.12/dist-packages (0.8.5)\n",
            "Requirement already satisfied: google-ai-generativelanguage==0.6.15 in /usr/local/lib/python3.12/dist-packages (from google-generativeai) (0.6.15)\n",
            "Requirement already satisfied: google-api-core in /usr/local/lib/python3.12/dist-packages (from google-generativeai) (2.26.0)\n",
            "Requirement already satisfied: google-api-python-client in /usr/local/lib/python3.12/dist-packages (from google-generativeai) (2.184.0)\n",
            "Requirement already satisfied: google-auth>=2.15.0 in /usr/local/lib/python3.12/dist-packages (from google-generativeai) (2.38.0)\n",
            "Requirement already satisfied: protobuf in /usr/local/lib/python3.12/dist-packages (from google-generativeai) (5.29.5)\n",
            "Requirement already satisfied: pydantic in /usr/local/lib/python3.12/dist-packages (from google-generativeai) (2.11.10)\n",
            "Requirement already satisfied: tqdm in /usr/local/lib/python3.12/dist-packages (from google-generativeai) (4.67.1)\n",
            "Requirement already satisfied: typing-extensions in /usr/local/lib/python3.12/dist-packages (from google-generativeai) (4.15.0)\n",
            "Requirement already satisfied: proto-plus<2.0.0dev,>=1.22.3 in /usr/local/lib/python3.12/dist-packages (from google-ai-generativelanguage==0.6.15->google-generativeai) (1.26.1)\n",
            "Requirement already satisfied: googleapis-common-protos<2.0.0,>=1.56.2 in /usr/local/lib/python3.12/dist-packages (from google-api-core->google-generativeai) (1.70.0)\n",
            "Requirement already satisfied: requests<3.0.0,>=2.18.0 in /usr/local/lib/python3.12/dist-packages (from google-api-core->google-generativeai) (2.32.4)\n",
            "Requirement already satisfied: cachetools<6.0,>=2.0.0 in /usr/local/lib/python3.12/dist-packages (from google-auth>=2.15.0->google-generativeai) (5.5.2)\n",
            "Requirement already satisfied: pyasn1-modules>=0.2.1 in /usr/local/lib/python3.12/dist-packages (from google-auth>=2.15.0->google-generativeai) (0.4.2)\n",
            "Requirement already satisfied: rsa<5,>=3.1.4 in /usr/local/lib/python3.12/dist-packages (from google-auth>=2.15.0->google-generativeai) (4.9.1)\n",
            "Requirement already satisfied: httplib2<1.0.0,>=0.19.0 in /usr/local/lib/python3.12/dist-packages (from google-api-python-client->google-generativeai) (0.31.0)\n",
            "Requirement already satisfied: google-auth-httplib2<1.0.0,>=0.2.0 in /usr/local/lib/python3.12/dist-packages (from google-api-python-client->google-generativeai) (0.2.0)\n",
            "Requirement already satisfied: uritemplate<5,>=3.0.1 in /usr/local/lib/python3.12/dist-packages (from google-api-python-client->google-generativeai) (4.2.0)\n",
            "Requirement already satisfied: annotated-types>=0.6.0 in /usr/local/lib/python3.12/dist-packages (from pydantic->google-generativeai) (0.7.0)\n",
            "Requirement already satisfied: pydantic-core==2.33.2 in /usr/local/lib/python3.12/dist-packages (from pydantic->google-generativeai) (2.33.2)\n",
            "Requirement already satisfied: typing-inspection>=0.4.0 in /usr/local/lib/python3.12/dist-packages (from pydantic->google-generativeai) (0.4.2)\n",
            "Requirement already satisfied: grpcio<2.0.0,>=1.33.2 in /usr/local/lib/python3.12/dist-packages (from google-api-core[grpc]!=2.0.*,!=2.1.*,!=2.10.*,!=2.2.*,!=2.3.*,!=2.4.*,!=2.5.*,!=2.6.*,!=2.7.*,!=2.8.*,!=2.9.*,<3.0.0dev,>=1.34.1->google-ai-generativelanguage==0.6.15->google-generativeai) (1.75.1)\n",
            "Requirement already satisfied: grpcio-status<2.0.0,>=1.33.2 in /usr/local/lib/python3.12/dist-packages (from google-api-core[grpc]!=2.0.*,!=2.1.*,!=2.10.*,!=2.2.*,!=2.3.*,!=2.4.*,!=2.5.*,!=2.6.*,!=2.7.*,!=2.8.*,!=2.9.*,<3.0.0dev,>=1.34.1->google-ai-generativelanguage==0.6.15->google-generativeai) (1.71.2)\n",
            "Requirement already satisfied: pyparsing<4,>=3.0.4 in /usr/local/lib/python3.12/dist-packages (from httplib2<1.0.0,>=0.19.0->google-api-python-client->google-generativeai) (3.2.5)\n",
            "Requirement already satisfied: pyasn1<0.7.0,>=0.6.1 in /usr/local/lib/python3.12/dist-packages (from pyasn1-modules>=0.2.1->google-auth>=2.15.0->google-generativeai) (0.6.1)\n",
            "Requirement already satisfied: charset_normalizer<4,>=2 in /usr/local/lib/python3.12/dist-packages (from requests<3.0.0,>=2.18.0->google-api-core->google-generativeai) (3.4.4)\n",
            "Requirement already satisfied: idna<4,>=2.5 in /usr/local/lib/python3.12/dist-packages (from requests<3.0.0,>=2.18.0->google-api-core->google-generativeai) (3.11)\n",
            "Requirement already satisfied: urllib3<3,>=1.21.1 in /usr/local/lib/python3.12/dist-packages (from requests<3.0.0,>=2.18.0->google-api-core->google-generativeai) (2.5.0)\n",
            "Requirement already satisfied: certifi>=2017.4.17 in /usr/local/lib/python3.12/dist-packages (from requests<3.0.0,>=2.18.0->google-api-core->google-generativeai) (2025.10.5)\n"
          ]
        }
      ]
    },
    {
      "cell_type": "code",
      "source": [
        "from google.colab import userdata"
      ],
      "metadata": {
        "id": "ZuEF4Mr8FJUI"
      },
      "execution_count": 61,
      "outputs": []
    },
    {
      "cell_type": "code",
      "source": [
        "gemini_key = userdata.get('GEMINI_API')\n"
      ],
      "metadata": {
        "id": "ppWA4CFuFNO5"
      },
      "execution_count": 62,
      "outputs": []
    },
    {
      "cell_type": "code",
      "source": [
        "class GeminiModel:\n",
        "    def __init__(self, api_key: str):\n",
        "        print(f\"Initializing Gemini...\")\n",
        "        genai.configure(api_key=api_key)\n",
        "        self.model = genai.GenerativeModel(\"gemini-2.5-flash-lite\")\n",
        "        print(\"Gemini ready\")\n",
        "\n",
        "    def __call__(self, prompts: Iterable[str]):\n",
        "        responses = []\n",
        "        for prompt in prompts:\n",
        "            if isinstance(prompt, list):\n",
        "                prompt = prompt[0]\n",
        "            response = self.model.generate_content(prompt)\n",
        "            responses.append(response.text.strip())\n",
        "        return responses"
      ],
      "metadata": {
        "id": "m4OD5ZgJYmMH"
      },
      "execution_count": 63,
      "outputs": []
    },
    {
      "cell_type": "code",
      "source": [
        "@registry.llm_models(\"custom.Gemini.v1\")\n",
        "def gemini_model(api_key: str):\n",
        "    return GeminiModel(api_key)"
      ],
      "metadata": {
        "id": "iFU4qsUuFqR3"
      },
      "execution_count": 64,
      "outputs": []
    },
    {
      "cell_type": "code",
      "source": [
        "@registry.llm_tasks(\"custom.TripletExtraction.v1\")\n",
        "def make_triplet_task():\n",
        "    return TripletExtractionTask()\n",
        "\n",
        "class TripletExtractionTask:\n",
        "    def __init__(self):\n",
        "        if not Doc.has_extension(\"triplets\"):\n",
        "            Doc.set_extension(\"triplets\", default=[])\n",
        "\n",
        "    def generate_prompts(self, docs: Iterable[Doc]) -> Iterable[str]:\n",
        "        prompts = []\n",
        "        for doc in docs:\n",
        "            prompt = f\"\"\"Extract role-practice-counterrole triplets from this text.\n",
        "\n",
        "IMPORTANT RULES:\n",
        "- Role: Name of organization or actor (e.g., \"EIT Digital\", \"Microsoft\")\n",
        "- Practice: SINGLE ACTION VERB ONLY (e.g., \"helps\", \"funds\", \"collaborates\", \"supports\")\n",
        "- Counterrole: Name of partner or recipient (e.g., \"MatchX\", \"startups\")\n",
        "\n",
        "Format each triplet EXACTLY like this:\n",
        "Role: [organization name]\n",
        "Practice: [single verb]\n",
        "Counterrole: [partner name]\n",
        "\n",
        "Text: {doc.text}\n",
        "\n",
        "Triplets:\"\"\"\n",
        "            prompts.append(prompt)\n",
        "        return prompts\n",
        "\n",
        "    def parse_responses(self, docs: Iterable[Doc], responses: Iterable[str]):\n",
        "        docs_list = list(docs)\n",
        "        responses_list = list(responses)\n",
        "\n",
        "        for doc, response in zip(docs_list, responses_list):\n",
        "            triplets = []\n",
        "            current = {}\n",
        "            for line in response.strip().split('\\n'):\n",
        "                if line.startswith('Role:'):\n",
        "                    current = {'role': line.replace('Role:', '').strip()}\n",
        "                elif line.startswith('Practice:'):\n",
        "                    current['practice'] = line.replace('Practice:', '').strip()\n",
        "                elif line.startswith('Counterrole:'):\n",
        "                    current['counterrole'] = line.replace('Counterrole:', '').strip()\n",
        "                    triplets.append(current)\n",
        "                    current = {}\n",
        "            doc._.triplets = triplets\n",
        "\n",
        "        return iter(docs_list)"
      ],
      "metadata": {
        "id": "E-at6IlObI45"
      },
      "execution_count": 65,
      "outputs": []
    },
    {
      "cell_type": "code",
      "source": [
        "config = {\n",
        "    \"task\": {\"@llm_tasks\": \"custom.TripletExtraction.v1\"},\n",
        "    \"model\": {\n",
        "        \"@llm_models\": \"custom.Gemini.v1\",\n",
        "        \"api_key\": gemini_key\n",
        "    },\n",
        "    \"validate_types\": False\n",
        "}"
      ],
      "metadata": {
        "id": "2S7m1RHkF2nW"
      },
      "execution_count": 66,
      "outputs": []
    },
    {
      "cell_type": "code",
      "source": [
        "text = \"\"\"I believe in the European dream\n",
        "In his family, he has been the only one with an interest in technology:\n",
        "'I had to teach myself how to\n",
        "Alexandros Toptsoglou wants to return one day and apply smart technology to improve the lives of Greek people. First, he must finish his studies at the\n",
        "Toptsoglou's self-motivation has culminated with the\n",
        "EIT Digital Master School\n",
        ". Toptsoglou is studying in the Cyber Security programme. During his first year, he studied at Twente University of Technology and now he is doing his second and final year at Saarland University in Germany. Before this, he studied digital systems at the University of Piraeus where he specialised in telecommunications and networks, writing a bachelor thesis on cloud forensics, and completing an Erasmus in Leuven.\n",
        "Why did you choose to study at the EIT Digital Master School?\n",
        "I have always been looking for opportunities to travel abroad. While doing my Erasmus, I realised that I'm interested in cyber security and that I have no problem adapting to new countries. The EIT Digital Master School combines both cyber security and travelling. Choosing the EIT Digital Master School also seemed good for my life after graduation. I think the network it provides will help me find a job more easily. In addition, I get a double degree from two universities and a certificate from the European Institute of Innovation and Technology (EIT). EIT is a recognised European Institute and the universities involved are among the highest rated worldwide in their fields. Also, the minor in Innovation and Entrepreneurship is quite special. Now that I am almost done, I am truly sure that I made the right choice!\n",
        "What do you like about the EIT Digital Master School?\n",
        "The multicultural diversity. You live and study with international students and see how differently everyone thinks. It is good to have discussions; it sharpens your critical and technical thinking and you become much more open-minded. The tough part is that sometimes you cannot express yourself the way you want, because of the language. I want to work abroad, so I think this is a good preparation for my career; the fact that I spent two years in two different universities and learned how to adapt to new environments. I saw how two highly-rated universities approach education and I believe that even if I faced difficulties in the beginning, it is worth it, and it will pay off. Finally, [tweetable alt=\"the structure of the EIT Digital Master School programme helped me to become more adaptable to change, not only in academic situations, whic\"]the structure of the EIT Digital Master School programme helped me to become more adaptable to change, not only in academic situations, which is a key advantage for my future.[/tweetable]\n",
        "What are the key differences between the different university systems you have experienced?\n",
        "The system in the Netherlands is pressurising. I tried to adjust to this term-based system, which involves exams every eight weeks. That was intense and new to me, since in Greece we follow semesters. In Twente, they did not have a lot of lectures, so I had to study a lot of research papers myself to be prepared for the exams. Nevertheless, by organising my time efficiently, I managed to get used to it. In Saarland, the system is totally different to the Netherlands; they follow the semester system, similar to Greece. Here the lectures are given inside internationally recognised research centres such as Max Planck Institute and CISPA and this influences the lectures since modern research is served even before its publication.\n",
        "In between the two universities, you did the Summer School Digital Finance Economics of Blockchain Security in Budapest. How did you find it?\n",
        "My thoughts are only positive. The most exciting point is that I worked in a team where the members met for the first time. That was difficult at first since we all came from different backgrounds, both cultural and educational. Nevertheless, with determination, we managed to overcome all our differences and develop a business plan for our product based on blockchain, which we presented to a jury.\n",
        "In addition to this, I enjoyed meeting other EIT Digital students from different disciplines. I realised that most of us want to be part of a start-up and that the Summer School provided us with all the necessary information to maximise our chances of building a successful product and a successful start-up.\n",
        "Finally,[tweetable alt=\"I am also glad because once again EIT Digital gave me the chance to travel to a new country and meet new people and, most importantly, prepa\"] I am also glad because once again EIT Digital gave me the chance to travel to a new country and meet new people and, most importantly, prepared me for the future work environment.[/tweetable] In the future, I will surely be involved in team projects with strict deadlines and people I don't know.\n",
        "Why did you not choose to do a masters in Greece?\n",
        "The most important reasons were that I wanted to see how they teach in other European countries and I wanted to broaden my horizons. Another reason is that studying for a masters in Greece is very expensive. In addition to this, due to the bad economic situation, universities, which are all public, are under-funded and consequently, they think twice when it comes to investing money in research and technology. When you are interested in more state of the art technologies, going abroad is a must. The last reason is that I would like to look for a job abroad.\n",
        "What are your plans after your graduation?\n",
        "Before I started at the EIT Digital Master School, I had a clear dream that I wanted to work in a big company or organisation in security or privacy and be the technical guy. After the kick-off in Rennes, and especially after the Summer School in Budapest, I started thinking about entrepreneurial things. I see how entrepreneurship works now and I can see myself in the future as an entrepreneur. Before this school, I was afraid to even think about starting something myself. Now I am for it. The ideal situation will be a job which combines my technical major with a taste of entrepreneurship.\n",
        "Will you stay abroad or go back to Greece?\n",
        "In Greece, we have a science brain drain. Greece produces brains but loses them. There is, for example, a large Greek community in Twente with people having serious technical jobs. They agree that Greece does not provide a stable work environment and is not friendly for young scientists. They want to come back but only after a few years. I also want to go back in maybe five or six years. I want to help and save my country at least from this brain drain but I cannot do that right now. I can easily find work, but the salary is not good. I also believe that being an entrepreneur in Greece is underestimated. First and foremost, the economy and the tax system cannot provide a safe environment for building a start-up and also the country makes it very dangerous with their economic tax policies. There is also a lack of vision and trust. Hence, starting a new business in Greece is impractical. For these reasons, I want to spend my first years abroad and after some years I will return with my savings to do my best for my country. In the future, I would like to apply smart technology and secure automated systems to reduce corruption, so we can save money for the government and make lives for people easier.\n",
        "How will your study help you to help Greece?\n",
        "Even if Greece is part of the European Union, it often lacks technology and innovation. Indeed, technology arrives in Greece years after it is applied in the rest of Europe. In a discipline such as cyber security, even a small delay in applying modern technology is crucial. Thus, this should be changed! I believe in the European dream, I believe that all countries should be together and communicate better to enable smooth technology transfer. My studies helped me to understand two things; first that people can communicate and work really successfully together even if they are from different countries; and second, I feel more open-minded now, since I have seen how other countries deal with the problems that Greece faces. When I return to my home country, I would like to try to teach, introduce and spread state of the art technology across industry. Finally, I would like to conduct research on a large scale and make Greece a pioneer in the field of cyber security.\n",
        "to get the best of the EIT Community's news in your inbox once each month.\n",
        "Do you use social media? Follow us and get updates in your news feed.\n",
        "--- 2018/news_183.txt ---\n",
        "Providing a broad portfolio of essential healthcare products,\n",
        "is a global healthcare company.\n",
        "Its portfolio includes acute and chronic dialysis therapies; sterile IV solutions; infusion systems and devices; parenteral nutrition therapies; inhaled anaesthetics; generic injectable pharmaceuticals; and surgical hemostat and sealant products. Baxter's global footprint and the critical nature of its products and services play a key role in expanding access to healthcare in emerging and developed countries. Baxter’s employees worldwide are building upon the company’s rich heritage of medical breakthroughs to advance the next generation of healthcare innovations that enable patient care.\n",
        "Baxter operates a global manufacturing network and its products are sold in more than 100 countries around the world, and they are used in a variety of care settings, including hospitals, kidney dialysis centres, nursing homes, rehabilitation centres, doctors’ offices and by patients at home under physician supervision. Baxter maintains a global R&D footprint, including locations in the United States, Asia and in Europe, where we operate facilities in countries such as Belgium, Germany, Italy among others.\n",
        "Baxter is thrilled to become a member of the\n",
        ". They are looking forward to continuing to build open innovation partnerships which drive forward their mission of saving and sustaining lives, adding to recently announced collaborations like Mayo Clinic, Tel Aviv University/Tel Aviv Sourasky Medical Center, and MATTER Healthcare Incubator. Baxter brings to its partnerships a mix of broad experience across a range of products, therapies, and technologies, brand/product strength, global reach, and commercial, market, regulatory, and clinical expertise.\n",
        "Baxter is particularly interested in opportunities/partnerships in the critical care/ICU, operating room, and renal care (home/clinic/hospital) settings. They are open to diverse partnerships and ones that cross industries lines.\n",
        "to get the best of the EIT Community's news in your inbox once each month.\n",
        "Do you use social media? Follow us and get updates in your news feed.\"\"\"\n"
      ],
      "metadata": {
        "id": "3Hazg1NvF7Xi"
      },
      "execution_count": 67,
      "outputs": []
    },
    {
      "cell_type": "code",
      "source": [
        "nlp = spacy.blank(\"en\")\n",
        "nlp.add_pipe(\"llm\", config=config)"
      ],
      "metadata": {
        "colab": {
          "base_uri": "https://localhost:8080/"
        },
        "id": "tMkGR_Dhhrnl",
        "outputId": "c57e2c93-8d48-43ee-c24d-69180aac197a"
      },
      "execution_count": 68,
      "outputs": [
        {
          "output_type": "stream",
          "name": "stdout",
          "text": [
            "Initializing Gemini...\n",
            "Gemini ready\n"
          ]
        },
        {
          "output_type": "execute_result",
          "data": {
            "text/plain": [
              "<spacy_llm.pipeline.llm.LLMWrapper at 0x78a9f7e9e290>"
            ]
          },
          "metadata": {},
          "execution_count": 68
        }
      ]
    },
    {
      "cell_type": "code",
      "source": [
        "doc = nlp(text)\n",
        "\n",
        "print(\"Extracted Triplets:\")\n",
        "print(\"=\" * 60)\n",
        "for i, t in enumerate(doc._.triplets, 1):\n",
        "    print(f\"\\n{i}.\")\n",
        "    print(f\"Role: {t['role']}\")\n",
        "    print(f\"Practice: {t['practice']}\")\n",
        "    print(f\"Counterrole: {t['counterrole']}\")\n",
        "print(\"\\n\" + \"=\" * 60)\n",
        "print(f\"Total triplets extracted: {len(doc._.triplets)}\")"
      ],
      "metadata": {
        "colab": {
          "base_uri": "https://localhost:8080/",
          "height": 451
        },
        "id": "k__1odpKYdkM",
        "outputId": "d100c0cd-d643-4d4b-94fc-07296495b3de"
      },
      "execution_count": 69,
      "outputs": [
        {
          "output_type": "stream",
          "name": "stdout",
          "text": [
            "Extracted Triplets:\n",
            "============================================================\n",
            "\n",
            "1.\n",
            "Role: EIT Digital Master School\n",
            "Practice: helps\n",
            "Counterrole: Alexandros Toptsoglou\n",
            "\n",
            "2.\n",
            "Role: EIT Digital Master School\n",
            "Practice: gave\n",
            "Counterrole: Alexandros Toptsoglou\n",
            "\n",
            "3.\n",
            "Role: EIT Digital\n",
            "Practice: gave\n",
            "Counterrole: Alexandros Toptsoglou\n",
            "\n",
            "4.\n",
            "Role: Baxter\n",
            "Practice: brings\n",
            "Counterrole: Baxter's partnerships\n",
            "\n",
            "============================================================\n",
            "Total triplets extracted: 4\n"
          ]
        }
      ]
    },
    {
      "cell_type": "code",
      "source": [],
      "metadata": {
        "id": "SFhKOjoWfANr"
      },
      "execution_count": 69,
      "outputs": []
    }
  ]
}