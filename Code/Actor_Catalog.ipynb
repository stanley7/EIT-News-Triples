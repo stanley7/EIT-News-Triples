{
  "nbformat": 4,
  "nbformat_minor": 0,
  "metadata": {
    "colab": {
      "provenance": []
    },
    "kernelspec": {
      "name": "python3",
      "display_name": "Python 3"
    },
    "language_info": {
      "name": "python"
    }
  },
  "cells": [
    {
      "cell_type": "code",
      "execution_count": null,
      "metadata": {
        "colab": {
          "base_uri": "https://localhost:8080/"
        },
        "id": "WuCUQDSoiCRJ",
        "outputId": "bf3fcc4a-2865-431b-c2ef-48b147bf356b"
      },
      "outputs": [
        {
          "output_type": "stream",
          "name": "stdout",
          "text": [
            "Requirement already satisfied: spacy in /usr/local/lib/python3.12/dist-packages (3.8.7)\n",
            "Requirement already satisfied: spacy-legacy<3.1.0,>=3.0.11 in /usr/local/lib/python3.12/dist-packages (from spacy) (3.0.12)\n",
            "Requirement already satisfied: spacy-loggers<2.0.0,>=1.0.0 in /usr/local/lib/python3.12/dist-packages (from spacy) (1.0.5)\n",
            "Requirement already satisfied: murmurhash<1.1.0,>=0.28.0 in /usr/local/lib/python3.12/dist-packages (from spacy) (1.0.13)\n",
            "Requirement already satisfied: cymem<2.1.0,>=2.0.2 in /usr/local/lib/python3.12/dist-packages (from spacy) (2.0.11)\n",
            "Requirement already satisfied: preshed<3.1.0,>=3.0.2 in /usr/local/lib/python3.12/dist-packages (from spacy) (3.0.10)\n",
            "Requirement already satisfied: thinc<8.4.0,>=8.3.4 in /usr/local/lib/python3.12/dist-packages (from spacy) (8.3.6)\n",
            "Requirement already satisfied: wasabi<1.2.0,>=0.9.1 in /usr/local/lib/python3.12/dist-packages (from spacy) (1.1.3)\n",
            "Requirement already satisfied: srsly<3.0.0,>=2.4.3 in /usr/local/lib/python3.12/dist-packages (from spacy) (2.5.1)\n",
            "Requirement already satisfied: catalogue<2.1.0,>=2.0.6 in /usr/local/lib/python3.12/dist-packages (from spacy) (2.0.10)\n",
            "Requirement already satisfied: weasel<0.5.0,>=0.1.0 in /usr/local/lib/python3.12/dist-packages (from spacy) (0.4.1)\n",
            "Requirement already satisfied: typer<1.0.0,>=0.3.0 in /usr/local/lib/python3.12/dist-packages (from spacy) (0.17.4)\n",
            "Requirement already satisfied: tqdm<5.0.0,>=4.38.0 in /usr/local/lib/python3.12/dist-packages (from spacy) (4.67.1)\n",
            "Requirement already satisfied: numpy>=1.19.0 in /usr/local/lib/python3.12/dist-packages (from spacy) (2.0.2)\n",
            "Requirement already satisfied: requests<3.0.0,>=2.13.0 in /usr/local/lib/python3.12/dist-packages (from spacy) (2.32.4)\n",
            "Requirement already satisfied: pydantic!=1.8,!=1.8.1,<3.0.0,>=1.7.4 in /usr/local/lib/python3.12/dist-packages (from spacy) (2.11.9)\n",
            "Requirement already satisfied: jinja2 in /usr/local/lib/python3.12/dist-packages (from spacy) (3.1.6)\n",
            "Requirement already satisfied: setuptools in /usr/local/lib/python3.12/dist-packages (from spacy) (75.2.0)\n",
            "Requirement already satisfied: packaging>=20.0 in /usr/local/lib/python3.12/dist-packages (from spacy) (25.0)\n",
            "Requirement already satisfied: langcodes<4.0.0,>=3.2.0 in /usr/local/lib/python3.12/dist-packages (from spacy) (3.5.0)\n",
            "Requirement already satisfied: language-data>=1.2 in /usr/local/lib/python3.12/dist-packages (from langcodes<4.0.0,>=3.2.0->spacy) (1.3.0)\n",
            "Requirement already satisfied: annotated-types>=0.6.0 in /usr/local/lib/python3.12/dist-packages (from pydantic!=1.8,!=1.8.1,<3.0.0,>=1.7.4->spacy) (0.7.0)\n",
            "Requirement already satisfied: pydantic-core==2.33.2 in /usr/local/lib/python3.12/dist-packages (from pydantic!=1.8,!=1.8.1,<3.0.0,>=1.7.4->spacy) (2.33.2)\n",
            "Requirement already satisfied: typing-extensions>=4.12.2 in /usr/local/lib/python3.12/dist-packages (from pydantic!=1.8,!=1.8.1,<3.0.0,>=1.7.4->spacy) (4.15.0)\n",
            "Requirement already satisfied: typing-inspection>=0.4.0 in /usr/local/lib/python3.12/dist-packages (from pydantic!=1.8,!=1.8.1,<3.0.0,>=1.7.4->spacy) (0.4.1)\n",
            "Requirement already satisfied: charset_normalizer<4,>=2 in /usr/local/lib/python3.12/dist-packages (from requests<3.0.0,>=2.13.0->spacy) (3.4.3)\n",
            "Requirement already satisfied: idna<4,>=2.5 in /usr/local/lib/python3.12/dist-packages (from requests<3.0.0,>=2.13.0->spacy) (3.10)\n",
            "Requirement already satisfied: urllib3<3,>=1.21.1 in /usr/local/lib/python3.12/dist-packages (from requests<3.0.0,>=2.13.0->spacy) (2.5.0)\n",
            "Requirement already satisfied: certifi>=2017.4.17 in /usr/local/lib/python3.12/dist-packages (from requests<3.0.0,>=2.13.0->spacy) (2025.8.3)\n",
            "Requirement already satisfied: blis<1.4.0,>=1.3.0 in /usr/local/lib/python3.12/dist-packages (from thinc<8.4.0,>=8.3.4->spacy) (1.3.0)\n",
            "Requirement already satisfied: confection<1.0.0,>=0.0.1 in /usr/local/lib/python3.12/dist-packages (from thinc<8.4.0,>=8.3.4->spacy) (0.1.5)\n",
            "Requirement already satisfied: click>=8.0.0 in /usr/local/lib/python3.12/dist-packages (from typer<1.0.0,>=0.3.0->spacy) (8.2.1)\n",
            "Requirement already satisfied: shellingham>=1.3.0 in /usr/local/lib/python3.12/dist-packages (from typer<1.0.0,>=0.3.0->spacy) (1.5.4)\n",
            "Requirement already satisfied: rich>=10.11.0 in /usr/local/lib/python3.12/dist-packages (from typer<1.0.0,>=0.3.0->spacy) (13.9.4)\n",
            "Requirement already satisfied: cloudpathlib<1.0.0,>=0.7.0 in /usr/local/lib/python3.12/dist-packages (from weasel<0.5.0,>=0.1.0->spacy) (0.22.0)\n",
            "Requirement already satisfied: smart-open<8.0.0,>=5.2.1 in /usr/local/lib/python3.12/dist-packages (from weasel<0.5.0,>=0.1.0->spacy) (7.3.1)\n",
            "Requirement already satisfied: MarkupSafe>=2.0 in /usr/local/lib/python3.12/dist-packages (from jinja2->spacy) (3.0.2)\n",
            "Requirement already satisfied: marisa-trie>=1.1.0 in /usr/local/lib/python3.12/dist-packages (from language-data>=1.2->langcodes<4.0.0,>=3.2.0->spacy) (1.3.1)\n",
            "Requirement already satisfied: markdown-it-py>=2.2.0 in /usr/local/lib/python3.12/dist-packages (from rich>=10.11.0->typer<1.0.0,>=0.3.0->spacy) (4.0.0)\n",
            "Requirement already satisfied: pygments<3.0.0,>=2.13.0 in /usr/local/lib/python3.12/dist-packages (from rich>=10.11.0->typer<1.0.0,>=0.3.0->spacy) (2.19.2)\n",
            "Requirement already satisfied: wrapt in /usr/local/lib/python3.12/dist-packages (from smart-open<8.0.0,>=5.2.1->weasel<0.5.0,>=0.1.0->spacy) (1.17.3)\n",
            "Requirement already satisfied: mdurl~=0.1 in /usr/local/lib/python3.12/dist-packages (from markdown-it-py>=2.2.0->rich>=10.11.0->typer<1.0.0,>=0.3.0->spacy) (0.1.2)\n"
          ]
        }
      ],
      "source": [
        "!pip install spacy"
      ]
    },
    {
      "cell_type": "code",
      "source": [
        "!python -m spacy download en_core_web_sm"
      ],
      "metadata": {
        "colab": {
          "base_uri": "https://localhost:8080/"
        },
        "id": "J178RkWHiQn5",
        "outputId": "08b7a44a-6332-427f-bedb-7a991ea1d149"
      },
      "execution_count": null,
      "outputs": [
        {
          "output_type": "stream",
          "name": "stdout",
          "text": [
            "Collecting en-core-web-sm==3.8.0\n",
            "  Downloading https://github.com/explosion/spacy-models/releases/download/en_core_web_sm-3.8.0/en_core_web_sm-3.8.0-py3-none-any.whl (12.8 MB)\n",
            "\u001b[2K     \u001b[90m━━━━━━━━━━━━━━━━━━━━━━━━━━━━━━━━━━━━━━━━\u001b[0m \u001b[32m12.8/12.8 MB\u001b[0m \u001b[31m49.6 MB/s\u001b[0m eta \u001b[36m0:00:00\u001b[0m\n",
            "\u001b[?25h\u001b[38;5;2m✔ Download and installation successful\u001b[0m\n",
            "You can now load the package via spacy.load('en_core_web_sm')\n",
            "\u001b[38;5;3m⚠ Restart to reload dependencies\u001b[0m\n",
            "If you are in a Jupyter or Colab notebook, you may need to restart Python in\n",
            "order to load all the package's dependencies. You can do this by selecting the\n",
            "'Restart kernel' or 'Restart runtime' option.\n"
          ]
        }
      ]
    },
    {
      "cell_type": "code",
      "source": [
        "import re\n",
        "from openai import OpenAI\n",
        "import os\n",
        "import json\n",
        "import gradio as gr\n",
        "import requests\n",
        "from bs4 import BeautifulSoup\n",
        "import spacy\n",
        "import pandas as pd\n",
        "import urllib3\n",
        "urllib3.disable_warnings(urllib3.exceptions.InsecureRequestWarning)\n",
        "from google.colab import userdata"
      ],
      "metadata": {
        "id": "B3O6R1TF3p7J"
      },
      "execution_count": null,
      "outputs": []
    },
    {
      "cell_type": "code",
      "source": [
        "website_list = {\n",
        "\"EIT Health\": \"https://eithealth.eu/who-we-are/\",\n",
        "\"EIT Digital\": \"https://www.eitdigital.eu/our-community/purpose/\",\n",
        "\"EIT Food\": \"https://www.eitfood.eu/about-us?\",   # Check\n",
        "\"Climate-KIC\": \"https://www.climate-kic.org/who-we-are/about-climate-kic/\",\n",
        "\"EIT RawMaterials\": \"https://eitrawmaterials.eu/about-us/our-mission\",\n",
        "\"EIT Culture & Creativity\": \"https://eit-culture-creativity.eu/about-us/\",\n",
        "\"EIT Urban Mobility\": \"https://www.eiturbanmobility.eu/who-we-are/about-us/\",\n",
        "\"EIT Manufacturing\": \"https://www.eitmanufacturing.eu/about-us/\",\n",
        "\"EIT InnoEnergy\": \"https://www.innoenergy.com/discover-innoenergy/\",\n",
        "}"
      ],
      "metadata": {
        "id": "bBQpdLsV3oMH"
      },
      "execution_count": 2,
      "outputs": []
    },
    {
      "cell_type": "code",
      "source": [
        "headers = {\n",
        "    \"User-Agent\": \"Mozilla/5.0 (Windows NT 10.0; Win64; x64) AppleWebKit/537.36 (KHTML, like Gecko) Chrome/120.0.0.0 Safari/537.36\"\n",
        "}"
      ],
      "metadata": {
        "id": "Roq1CvOFbErk"
      },
      "execution_count": null,
      "outputs": []
    },
    {
      "cell_type": "code",
      "source": [
        "print(type(website_list))"
      ],
      "metadata": {
        "colab": {
          "base_uri": "https://localhost:8080/"
        },
        "id": "PiW6B8adSElZ",
        "outputId": "339c92c5-a612-4ac6-c712-997274e7556d"
      },
      "execution_count": null,
      "outputs": [
        {
          "output_type": "stream",
          "name": "stdout",
          "text": [
            "<class 'dict'>\n"
          ]
        }
      ]
    },
    {
      "cell_type": "code",
      "source": [
        "# Set your token here\n",
        "hf_token = userdata.get('HF_TOKEN')\n",
        "os.environ[\"HF_TOKEN\"] = hf_token"
      ],
      "metadata": {
        "id": "RH6VSg54WX_t"
      },
      "execution_count": null,
      "outputs": []
    },
    {
      "cell_type": "code",
      "source": [
        "# Initialize the client\n",
        "client = OpenAI(\n",
        "    base_url=\"https://router.huggingface.co/v1\",\n",
        "    api_key= hf_token # Your HF token\n",
        "    )"
      ],
      "metadata": {
        "id": "h4NXMDZ0XMiR"
      },
      "execution_count": null,
      "outputs": []
    },
    {
      "cell_type": "code",
      "source": [
        "nlp = spacy.load(\"en_core_web_sm\")"
      ],
      "metadata": {
        "id": "2jtA4dfMSPgE"
      },
      "execution_count": null,
      "outputs": []
    },
    {
      "cell_type": "code",
      "source": [
        "actor_data = []\n",
        "results = []"
      ],
      "metadata": {
        "id": "3b3ykpmUaK1l"
      },
      "execution_count": null,
      "outputs": []
    },
    {
      "cell_type": "code",
      "source": [
        "for actor, url in website_list.items():\n",
        "  response = requests.get(url, headers=headers, timeout=15, verify=False)\n",
        "  response.raise_for_status()\n",
        "  soup = BeautifulSoup(response.content, \"html.parser\")\n",
        "\n",
        "  all_texts = []\n",
        "  for text in soup.find_all(['p', 'li', 'h1', 'h2', 'h3', 'span']):\n",
        "    all_texts.append(text.get_text(separator=' ', strip=True))\n",
        "  page_text = ' '.join(all_texts)\n",
        "\n",
        "  doc = nlp(page_text)\n",
        "  dates = [ent.text for ent in doc.ents if ent.label_ == \"DATE\"]\n",
        "  locations = [ent.text for ent in doc.ents if ent.label_ in [\"GPE\", \"LOC\"]]\n",
        "\n",
        "  prompt = f\"\"\"\n",
        "    You are analyzing the About page of {actor}.\n",
        "\n",
        "    Candidate dates: {dates}\n",
        "    Candidate locations: {locations}\n",
        "\n",
        "    Task:\n",
        "    1. Identify the official launch/founding date of {actor}.\n",
        "    2. Identify the primary location or headquarters of {actor}.\n",
        "    3. Provide a short role description of what {actor} is.\n",
        "\n",
        "    Return result as list:\n",
        "    [\"actor\", \"date_launched\", \"location\"]\n",
        "\n",
        "    Context text (may contain noise, but focus on dates/locations that answer the task):\n",
        "    {page_text[:]}\n",
        "    \"\"\"\n",
        "\n",
        "  completion = client.chat.completions.create(\n",
        "      model=\"openai/gpt-oss-120b\",\n",
        "      messages=[{\"role\": \"user\", \"content\": prompt}],\n",
        "      temperature=0\n",
        "    )\n",
        "\n",
        "\n",
        "  results.append(completion.choices[0].message.content)"
      ],
      "metadata": {
        "id": "6YCYu_UkaNPs"
      },
      "execution_count": null,
      "outputs": []
    },
    {
      "cell_type": "code",
      "source": [
        "print(results)"
      ],
      "metadata": {
        "colab": {
          "base_uri": "https://localhost:8080/"
        },
        "id": "lJTaDHmKf9mJ",
        "outputId": "4651df13-5e4f-4550-9613-6e3f24edb4a9"
      },
      "execution_count": null,
      "outputs": [
        {
          "output_type": "stream",
          "name": "stdout",
          "text": [
            "['[\"EIT Health\", \"2015\", \"Munich, Germany\"]', '[\"EIT Digital\", \"2010\", \"Europe\"]', '[\"EIT Food\", \"2016\", \"Europe\"]', '[\"Climate-KIC\", \"2010\", \"Europe\"]', '[\"EIT RawMaterials\", \"2015\", \"Europe\"]', '[\"EIT Culture & Creativity\", \"2023\", \"Cologne, Germany\"]', '[\"EIT Urban Mobility\", \"2019\", \"Barcelona\"]']\n"
          ]
        }
      ]
    },
    {
      "cell_type": "code",
      "source": [
        "rows = [json.loads(r) for r in results]"
      ],
      "metadata": {
        "id": "MPqOeKJ4fpwV"
      },
      "execution_count": null,
      "outputs": []
    },
    {
      "cell_type": "code",
      "source": [
        "print(rows)"
      ],
      "metadata": {
        "colab": {
          "base_uri": "https://localhost:8080/"
        },
        "id": "QnKBhgiCaSry",
        "outputId": "17fba8e7-426a-46b9-bb9d-cfb3abe14a0e"
      },
      "execution_count": null,
      "outputs": [
        {
          "output_type": "stream",
          "name": "stdout",
          "text": [
            "[['EIT Health', '2015', 'Munich, Germany'], ['EIT Digital', '2010', 'Europe'], ['EIT Food', '2016', 'Europe'], ['Climate-KIC', '2010', 'Europe'], ['EIT RawMaterials', '2015', 'Europe'], ['EIT Culture & Creativity', '2023', 'Cologne, Germany'], ['EIT Urban Mobility', '2019', 'Barcelona']]\n"
          ]
        }
      ]
    },
    {
      "cell_type": "code",
      "source": [
        "with gr.Blocks() as demo:\n",
        "    gr.Markdown(\"EIT Actor Catalog\")\n",
        "    table = gr.Dataframe(value=rows, headers=[\"Actor\", \"Date Launched\", \"Location\"], datatype=[\"str\", \"str\", \"str\", \"str\"])\n",
        "demo.launch()"
      ],
      "metadata": {
        "colab": {
          "base_uri": "https://localhost:8080/",
          "height": 645
        },
        "id": "BtPIGORfd9t8",
        "outputId": "9a39746e-7f89-437e-b041-5a3434ec192f"
      },
      "execution_count": null,
      "outputs": [
        {
          "output_type": "stream",
          "name": "stdout",
          "text": [
            "It looks like you are running Gradio on a hosted Jupyter notebook, which requires `share=True`. Automatically setting `share=True` (you can turn this off by setting `share=False` in `launch()` explicitly).\n",
            "\n",
            "Colab notebook detected. To show errors in colab notebook, set debug=True in launch()\n",
            "* Running on public URL: https://de3e764777e206f7a6.gradio.live\n",
            "\n",
            "This share link expires in 1 week. For free permanent hosting and GPU upgrades, run `gradio deploy` from the terminal in the working directory to deploy to Hugging Face Spaces (https://huggingface.co/spaces)\n"
          ]
        },
        {
          "output_type": "display_data",
          "data": {
            "text/plain": [
              "<IPython.core.display.HTML object>"
            ],
            "text/html": [
              "<div><iframe src=\"https://de3e764777e206f7a6.gradio.live\" width=\"100%\" height=\"500\" allow=\"autoplay; camera; microphone; clipboard-read; clipboard-write;\" frameborder=\"0\" allowfullscreen></iframe></div>"
            ]
          },
          "metadata": {}
        },
        {
          "output_type": "execute_result",
          "data": {
            "text/plain": []
          },
          "metadata": {},
          "execution_count": 15
        }
      ]
    },
    {
      "cell_type": "code",
      "source": [
        "import gradio as gr\n",
        "\n",
        "# List of actors\n",
        "actor_lists = {\n",
        "    \"EIT Organizations\": [\n",
        "        \"EIT Health\", \"EIT Digital\", \"EIT RawMaterials\", \"EIT Manufacturing\",\n",
        "        \"EIT Urban Mobility\", \"EIT Food\", \"EIT InnoEnergy\", \"EIT Health Belgium-Netherlands\",\n",
        "        \"EIT Health Germany\", \"EIT Digital Accelerator\"\n",
        "    ],\n",
        "    \"Universities / Research Institutes\": [\n",
        "        \"Delft University of Technology\", \"Eötvös Lorand University\", \"KTH Institute\",\n",
        "        \"University of Maastricht\", \"LEITAT Technology Center\", \"University of Luxembourg\",\n",
        "        \"University of Pécs\", \"University of Porto\", \"University of Debrecen\", \"University of Cambridge\"\n",
        "    ],\n",
        "    \"Companies / Corporates\": [\n",
        "        \"Microsoft\", \"GE Healthcare\", \"Philips\", \"Siemens Healthineers\", \"Sanofi\",\n",
        "        \"Bosch\", \"IBM\", \"Bayer\", \"Johnson & Johnson\", \"Roche\"\n",
        "    ],\n",
        "    \"Start-ups\": [\n",
        "        \"Tracegrow\", \"Entremo\", \"Recycleye\", \"AMEN New Technologies\", \"InnoTractor\",\n",
        "        \"LMAD\", \"SeizeIT\", \"NanoRacks\", \"Feno\", \"OvaExpert\"\n",
        "    ],\n",
        "    \"Government / Public Sector\": [\n",
        "        \"European Commission\", \"Hungarian Ministry for Innovation and Technology\",\n",
        "        \"National Research, Development and Innovation Office (Hungary)\",\n",
        "        \"Ministry of Human Capacities (Hungary)\",\n",
        "        \"German Federal Ministry of Education and Research\",\n",
        "        \"City of Debrecen\", \"Central, Eastern and Southern Europe\",\n",
        "        \"National Health Service (UK)\", \"Health Ministry\"\n",
        "    ]\n",
        "}\n",
        "\n",
        "def show_list(category):\n",
        "    return \"\\n\".join(actor_lists[category])\n",
        "\n",
        "gr.Interface(\n",
        "    fn=show_list,\n",
        "    inputs=gr.Dropdown(choices=list(actor_lists.keys()), label=\"Select List\"),\n",
        "    outputs=gr.Textbox(label=\"Output\", lines=12),\n",
        "\n",
        "    title=\"Actor List Viewer\",\n",
        "    allow_flagging=\"never\",\n",
        "\n",
        ").launch()\n"
      ],
      "metadata": {
        "colab": {
          "base_uri": "https://localhost:8080/",
          "height": 680
        },
        "id": "olqf_N66ebzB",
        "outputId": "a7754977-e00d-4ebe-db4e-54aee920bf7e"
      },
      "execution_count": null,
      "outputs": [
        {
          "output_type": "stream",
          "name": "stderr",
          "text": [
            "/usr/local/lib/python3.12/dist-packages/gradio/interface.py:415: UserWarning: The `allow_flagging` parameter in `Interface` is deprecated. Use `flagging_mode` instead.\n",
            "  warnings.warn(\n"
          ]
        },
        {
          "output_type": "stream",
          "name": "stdout",
          "text": [
            "It looks like you are running Gradio on a hosted Jupyter notebook, which requires `share=True`. Automatically setting `share=True` (you can turn this off by setting `share=False` in `launch()` explicitly).\n",
            "\n",
            "Colab notebook detected. To show errors in colab notebook, set debug=True in launch()\n",
            "* Running on public URL: https://870e38ed04ef069d6d.gradio.live\n",
            "\n",
            "This share link expires in 1 week. For free permanent hosting and GPU upgrades, run `gradio deploy` from the terminal in the working directory to deploy to Hugging Face Spaces (https://huggingface.co/spaces)\n"
          ]
        },
        {
          "output_type": "display_data",
          "data": {
            "text/plain": [
              "<IPython.core.display.HTML object>"
            ],
            "text/html": [
              "<div><iframe src=\"https://870e38ed04ef069d6d.gradio.live\" width=\"100%\" height=\"500\" allow=\"autoplay; camera; microphone; clipboard-read; clipboard-write;\" frameborder=\"0\" allowfullscreen></iframe></div>"
            ]
          },
          "metadata": {}
        },
        {
          "output_type": "execute_result",
          "data": {
            "text/plain": []
          },
          "metadata": {},
          "execution_count": 16
        }
      ]
    },
    {
      "cell_type": "code",
      "source": [],
      "metadata": {
        "id": "IsoQlVdKJH9E"
      },
      "execution_count": null,
      "outputs": []
    }
  ]
}