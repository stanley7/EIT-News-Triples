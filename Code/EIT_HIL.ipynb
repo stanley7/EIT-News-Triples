{
  "nbformat": 4,
  "nbformat_minor": 0,
  "metadata": {
    "colab": {
      "provenance": []
    },
    "kernelspec": {
      "name": "python3",
      "display_name": "Python 3"
    },
    "language_info": {
      "name": "python"
    }
  },
  "cells": [
    {
      "cell_type": "code",
      "execution_count": null,
      "metadata": {
        "id": "ZsFi8tzFTlzM"
      },
      "outputs": [],
      "source": [
        "import gradio as gr\n",
        "import json\n",
        "\n",
        "# Load your model evaluation results\n",
        "with open(\"model_evaluation_results.json\", \"r\", encoding=\"utf-8\") as f:\n",
        "    data = json.load(f)\n",
        "\n",
        "feedback_data = []\n",
        "\n",
        "def show_example(i):\n",
        "    \"\"\"Return formatted text + current index\"\"\"\n",
        "    item = data[i]\n",
        "    text = f\"\"\"### Query {i+1}/{len(data)}\n",
        "\n",
        "**Query:** {item['query']}\n",
        "\n",
        "**Mistral Output:** {item['mistral_output']}\n",
        "\n",
        "**Gemma Output:** {item['gemma_output']}\n",
        "\n",
        "**Similarity:** {item['similarity_score']} | **Rating:** {item['rating']}\n",
        "**Reason:** {item['reason']}\"\"\"\n",
        "    return text, i\n",
        "\n",
        "def save_feedback(i, feedback):\n",
        "    \"\"\"Save feedback and move to next example\"\"\"\n",
        "    entry = data[i].copy()\n",
        "    entry[\"human_feedback\"] = feedback\n",
        "    feedback_data.append(entry)\n",
        "\n",
        "    # Save progress\n",
        "    with open(\"human_feedback.json\", \"w\", encoding=\"utf-8\") as f:\n",
        "        json.dump(feedback_data, f, ensure_ascii=False, indent=2)\n",
        "\n",
        "    # Move to next item\n",
        "    next_i = (i + 1) % len(data)\n",
        "    return *show_example(next_i), \"\"\n",
        "\n",
        "with gr.Blocks() as demo:\n",
        "    gr.Markdown(\"# Human Feedback on Triple Extraction\")\n",
        "\n",
        "    index_state = gr.State(0)\n",
        "    display_box = gr.Markdown()\n",
        "    feedback_box = gr.Textbox(label=\"Your Feedback\", placeholder=\"Write your thoughts here...\", lines=4)\n",
        "    next_button = gr.Button(\"Submit & Next\")\n",
        "\n",
        "    # Initialize first example\n",
        "    init_text, _ = show_example(0)\n",
        "    display_box.value = init_text\n",
        "\n",
        "    next_button.click(\n",
        "        save_feedback,\n",
        "        inputs=[index_state, feedback_box],\n",
        "        outputs=[display_box, index_state, feedback_box]\n",
        "    )\n",
        "\n",
        "demo.launch()\n"
      ]
    }
  ]
}